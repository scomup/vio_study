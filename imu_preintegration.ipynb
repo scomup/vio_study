{
 "cells": [
  {
   "cell_type": "markdown",
   "metadata": {},
   "source": [
    "### IMU予積分(IMU Pre-integration)\n",
    "IMU予積分(IMU Pre-integration)はVisual Odometry or SLAMでよく使われた手法です、フレーム間のIMU情報を制約として最適化フレームワークに導入することで、より高精度なOdometry or SLAM\n",
    "を実現できる。しかし、IMU予積分予積分の式はすごく難しい、どうやって導出しているかどうかについて論文から説明がありません、この文章の目的はIMU予積分の式を導出します。"
   ]
  },
  {
   "cell_type": "markdown",
   "metadata": {},
   "source": [
    "### IMUのモデル\n",
    "Gyroモデル\n",
    "$$\\tilde{\\omega}_b= \\omega_b + bg + ng\\tag{1}$$\n",
    "\n",
    "* $\\tilde{\\omega}_b$はGyroの測量値, 下付き文字はbはimuのbody座標計を示す\n",
    "* $\\omega_b$はGyroの真値\n",
    "* $bg$はGyroのbias\n",
    "* $ng$はGyroのnoise\n",
    "\n",
    "加速度計モデル\n",
    "$$\\tilde{a}_b= q_{bw}(a_w+g_w) + ba + na\\tag{2}$$\n",
    "* $\\tilde{a}_b$は加速度の測量値, 下付き文字はbはimuのbody座標計を示す\n",
    "* $q_bw$世界座標系をbody座標系に変換するためのクオータニオン\n",
    "* $a_w$は加速度の真値(世界座標系)\n",
    "* $g_w$は重量加速度(世界座標系)\n",
    "* $ba$は加速度のbias\n",
    "* $na$は加速度のnoise\n"
   ]
  },
  {
   "cell_type": "markdown",
   "metadata": {},
   "source": [
    "### 連続時間でIMUの運動モデル\n",
    "i時刻からj時刻まで\n",
    "位置(position)：\n",
    "$$p_{wb_{j}}= p_{wb_{i}} + v^w_i\\Delta t + \\int\\int_{t\\in [i,j]}(q_{wb_{t}}a^{b_t}-g^w)\\delta t^2 $$\n",
    "$$p_{wb_{j}}= p_{wb_{i}} + v^w_i\\Delta t - \\frac{1}{2} g^w \\Delta t^2 + \\int\\int_{t\\in [i,j]}(q_{wb_{t}}a^{b_t})\\delta t^2 $$\n",
    "$$p_{wb_{j}}= p_{wb_{i}} + v^w_i\\Delta t - \\frac{1}{2} g^w \\Delta t^2 + q_{wb_{i}} \\int\\int_{t\\in [i,j]}(q_{b_i b_t}a^{b_t})\\delta t^2 \\tag{3} $$\n",
    "\n",
    "\n",
    "速度(velocity)：\n",
    "$$v_j^w= v_i^w + \\int_{t\\in [i,j]}(q_{wb_{t}}a^{b_t}-g^w)\\delta t$$\n",
    "$$v_j^w= v_i^w + g^w\\Delta t + \\int_{t\\in [i,j]}(q_{wb_{t}}a^{b_t})\\delta t $$\n",
    "$$v_j^w= v_i^w + g^w\\Delta t + + q_{wb_{i}} \\int_{t\\in [i,j]}(q_{b_{i} b_{t}}a^{b_t})\\delta t \\tag{4} $$\n",
    "\n",
    "\n",
    "姿勢(quaternion)：\n",
    "$$q_{wb_{j}}= \\int_{t\\in [i,j]} q_{wb_{t}} \\otimes \\left[\n",
    "\\begin{matrix} 0 \\\\ \\omega^{b_t}/2 \\end{matrix}\n",
    "\\right] \\delta t \\tag{5} $$\n",
    "  \n",
    "  \n",
    "(3)(4)(5)で、以下の分量はIMUの測量値のみ関係するため、予積分量と呼びます\n",
    "$$\\alpha_{b_i b_j} =\\int\\int_{t\\in [i,j]}(q_{b_i b_t}a^{b_t})\\delta t^2 $$\n",
    "$$\\beta_{b_i b_j} =\\int_{t\\in [i,j]}(q_{b_{i} b_{t}}a^{b_t})\\delta t $$\n",
    "$$q_{b_i b_j} =\\int_{t\\in [i,j]} q_{wb_{t}} \\otimes \\left[\n",
    "\\begin{matrix} 0 \\\\ \\omega^{b_t}/2 \\end{matrix}\n",
    "\\right] \\delta t $$\n",
    "\n",
    "\n"
   ]
  },
  {
   "cell_type": "markdown",
   "metadata": {},
   "source": [
    "### IMUの運動モデルの離散化表現\n",
    "$$p_{wb_{k+1}}= p_{wb_{k}} + v^w_{b_k}\\Delta t + \\frac{1}{2} \\hat{a} \\Delta t^2 $$\n",
    "$$q_{w b_{k+1}} = q_{wb_{t}} \\otimes \\left[\n",
    "\\begin{matrix} 1 \\\\ \\hat{\\omega} \\delta t /2 \\end{matrix}\n",
    "\\right] $$\n",
    "$$v^w_{k+1}= v_k^w + \\hat{a}\\Delta t $$\n",
    "$$b^{a}_{k+1} = b^{a}_{k} + n_{b^{a}_{k}}\\Delta t $$\n",
    "$$b^{g}_{k+1} = b^{g}_{k} + n_{b^{g}_{k}}\\Delta t $$\n",
    "\n",
    "\n",
    "here:\n",
    " $$\\hat{a} = \\frac{1}{2} [ q_{wb_{k}}(a^{b_k} - b^a_k) - g^w + q_{w b_{k+1}}(a^{b_{k+1}} -b^a_k)-g^w ]$$\n",
    " $$\\hat{\\omega} = \\frac{1}{2} [ (\\omega^{b_k} - b^g_k) + (\\omega^{b_{k+1}} -b^g_k) ]$$"
   ]
  },
  {
   "cell_type": "markdown",
   "metadata": {},
   "source": [
    "### 状態の誤差\n",
    "$$ x = \\hat{x} + \\delta{x} $$\n",
    "* $\\hat{x}$ 真値\n",
    "* $\\delta{x}$ 誤差\n",
    "$$ x_{k+1} + \\delta{x}_{k+1} = f(x_{k}, u_{k}) $$\n",
    "$$ \\hat{x}_{k+1} + \\delta{x}_{k+1} = f(\\hat{x}_{k}, \\hat{u}_{k}) + F \\delta{x_{k}} + G n_{k}$$\n",
    "* $\\hat{x}_{k}$ kの状態の真値\n",
    "* $\\hat{u}_{k}$ kのinput\n",
    "$$ F = \\frac{\\partial f(x_{k}, u_{k})}{\\partial x_{k}} $$\n",
    "$$ G = \\frac{\\partial f(x_{k}, u_{k})}{\\partial n_{k}} $$\n"
   ]
  },
  {
   "cell_type": "markdown",
   "metadata": {},
   "source": [
    "$$ F = \\left[\n",
    "\\begin{matrix} \n",
    "0 & f_{12} &  I \\delta t & -\\frac{1}{2}(q_{b_{i} b_{k}} + q_{b_{i} b_{k+1}}) \\delta t^2 & f_{15}\n",
    "\\\\ \n",
    "0 & f_{22} & 0 & 0 & I \\delta t\n",
    "\\\\ \n",
    "0 & f_{32} & I & -\\frac{1}{2}(q_{b_{i} b_{k}} + q_{b_{i} b_{k+1}}) \\delta t  & f_{35}\n",
    "\\\\ \n",
    "0 & 0 & 0 & I & 0\n",
    "\\\\ \n",
    "0 & 0 & 0 & 0 & I\n",
    " \\end{matrix}\n",
    "\\right] $$"
   ]
  },
  {
   "cell_type": "markdown",
   "metadata": {},
   "source": [
    "$$ f_{22} = \\frac{\\partial \\delta q_{k+1}}{\\partial \\delta q_{k}} $$\n",
    "$$q_{b_i b_{k+1}} \\otimes \\left[\n",
    "\\begin{matrix} 1 \\\\ \\delta q_{k+1} /2 \\end{matrix}\n",
    "\\right] \n",
    "= q_{b_i b_{k}} \\otimes \\left[\n",
    "\\begin{matrix} 1 \\\\ \\delta q_{k} /2 \\end{matrix}\n",
    "\\right]  \\otimes \\left[\n",
    "\\begin{matrix} 1 \\\\ \\omega \\delta t /2 \\end{matrix}\n",
    "\\right] $$\n",
    "\n",
    "$$ \\left[\n",
    "\\begin{matrix} 1 \\\\ \\delta q_{k+1} /2 \\end{matrix}\n",
    "\\right] \n",
    "= q_{b_{k+1} b_{i}} q_{b_i b_{k}} \\otimes \\left[\n",
    "\\begin{matrix} 1 \\\\ \\delta q_{k} /2 \\end{matrix}\n",
    "\\right]  \\otimes \\left[\n",
    "\\begin{matrix} 1 \\\\ \\omega \\delta t /2 \\end{matrix}\n",
    "\\right] $$\n",
    "\n",
    "$$ \\left[\n",
    "\\begin{matrix} 1 \\\\ \\delta q_{k+1} /2 \\end{matrix}\n",
    "\\right] \n",
    "= q_{b_{k+1} b_{k}} \\otimes \\left[\n",
    "\\begin{matrix} 1 \\\\ \\delta q_{k} /2 \\end{matrix}\n",
    "\\right]  \\otimes \\left[\n",
    "\\begin{matrix} 1 \\\\ \\omega \\delta t /2 \\end{matrix}\n",
    "\\right] $$\n",
    "\n",
    "$$ \\left[\n",
    "\\begin{matrix} 1 \\\\ \\delta q_{k+1} /2 \\end{matrix}\n",
    "\\right] \n",
    "= \\left[\n",
    "\\begin{matrix} 1 \\\\ -\\omega \\delta t /2 \\end{matrix}\n",
    "\\right]  \\otimes \\left[\n",
    "\\begin{matrix} 1 \\\\ \\delta q_{k} /2 \\end{matrix}\n",
    "\\right]  \\otimes \\left[\n",
    "\\begin{matrix} 1 \\\\ \\omega \\delta t /2 \\end{matrix}\n",
    "\\right] $$\n",
    "\n",
    "$$ \n",
    "= \\left[\n",
    "\\begin{matrix} 1 \\\\ R \\delta q_{b_k} /2 \\end{matrix}\n",
    "\\right]$$\n",
    "\n",
    "$$ \\delta q_{k+1} /2 = R \\delta q_{b_k} /2 $$\n",
    "$$ q_{k+1} = (I - [\\omega \\delta t]\\times) \\delta q_{b_k}  $$\n",
    "$$ f_{22} = I - [\\omega \\delta t]\\times  $$"
   ]
  }
 ],
 "metadata": {
  "interpreter": {
   "hash": "31f2aee4e71d21fbe5cf8b01ff0e069b9275f58929596ceb00d14d90e3e16cd6"
  },
  "kernelspec": {
   "display_name": "Python 3.6.9 64-bit",
   "language": "python",
   "name": "python3"
  },
  "language_info": {
   "name": "python",
   "version": "3.6.9"
  },
  "orig_nbformat": 4
 },
 "nbformat": 4,
 "nbformat_minor": 2
}
