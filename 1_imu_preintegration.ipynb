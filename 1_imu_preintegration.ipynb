{
 "cells": [
  {
   "cell_type": "markdown",
   "metadata": {},
   "source": [
    "### IMU予積分(IMU Pre-integration)\n",
    "IMU予積分(IMU Pre-integration)はVisual Odometry or SLAMでよく使われた手法です、フレーム間のIMU情報を制約として最適化フレームワークに導入することで、より高精度なOdometry or SLAM\n",
    "を実現できる。しかし、IMU予積分予積分の式はすごく難しい、どうやって導出しているかどうかについて論文から説明がありません、この文章の目的はIMU予積分の式を導出します。\n",
    "\n",
    "VINS:midPointIntegration"
   ]
  },
  {
   "cell_type": "markdown",
   "metadata": {},
   "source": [
    "### IMUのモデル\n",
    "Gyroモデル\n",
    "$$\\tilde{\\omega}_b= \\omega_b + bg + ng\\tag{1}$$\n",
    "\n",
    "* $\\tilde{\\omega}_b$はGyroの測量値, 下付き文字はbはimuのbody座標計を示す\n",
    "* $\\omega_b$はGyroの真値\n",
    "* $bg$はGyroのbias\n",
    "* $ng$はGyroのnoise\n",
    "\n",
    "加速度計モデル\n",
    "$$\\tilde{a}_b= q_{bw}(a_w+g_w) + ba + na\\tag{2}$$\n",
    "* $\\tilde{a}_b$は加速度の測量値, 下付き文字はbはimuのbody座標計を示す\n",
    "* $q_bw$世界座標系をbody座標系に変換するためのクオータニオン\n",
    "* $a_w$は加速度の真値(世界座標系)\n",
    "* $g_w$は重量加速度(世界座標系)\n",
    "* $ba$は加速度のbias\n",
    "* $na$は加速度のnoise\n"
   ]
  },
  {
   "cell_type": "markdown",
   "metadata": {},
   "source": [
    "### 連続時間でIMUの運動モデル\n",
    "i時刻からj時刻まで\n",
    "位置(position)：\n",
    "$$p_{wb_{j}}= p_{wb_{i}} + v^w_i\\Delta t - \\frac{1}{2} g^w \\Delta t^2 + q_{wb_{i}} \\int\\int_{t\\in [i,j]}(q_{b_i b_t}a^{b_t})\\delta t^2 \\tag{3} $$\n",
    "\n",
    "速度(velocity)：\n",
    "$$v_j^w= v_i^w + g^w\\Delta t + + q_{wb_{i}} \\int_{t\\in [i,j]}(q_{b_{i} b_{t}}a^{b_t})\\delta t \\tag{4} $$\n",
    "\n",
    "姿勢(quaternion)：\n",
    "$$q_{wb_{j}}= \\int_{t\\in [i,j]} q_{wb_{t}} \\otimes \\left[\n",
    "\\begin{matrix} 0 \\\\ \\omega^{b_t}/2 \\end{matrix}\n",
    "\\right] \\delta t \\tag{5} $$\n",
    "  \n",
    "  \n",
    "(3)(4)(5)で、以下の分量はIMUの測量値のみ関係するため、予積分量と呼びます\n",
    "$$\\alpha_{b_i b_j} =\\int\\int_{t\\in [i,j]}(q_{b_i b_t}a^{b_t})\\delta t^2  \\tag{6}$$\n",
    "$$\\beta_{b_i b_j} =\\int_{t\\in [i,j]}(q_{b_{i} b_{t}}a^{b_t})\\delta t  \\tag{7}$$\n",
    "$$q_{b_i b_j} =\\int_{t\\in [i,j]} q_{wb_{t}} \\otimes \\left[\n",
    "\\begin{matrix} 0 \\\\ \\omega^{b_t}/2 \\end{matrix}\n",
    "\\right] \\delta t  \\tag{8}$$\n",
    "\n",
    "\n"
   ]
  },
  {
   "cell_type": "markdown",
   "metadata": {},
   "source": [
    "### IMUの運動モデルの離散化表現\n",
    "ノイズを考慮せず、imuデータの各フレームの状態変化：\n",
    "\n",
    "$$p_{wb_{k+1}}= p_{wb_{k}} + v^w_{b_k}\\Delta{t} + \\frac{1}{2} a \\Delta{t^2}  \\tag{9} $$\n",
    "$$q_{w b_{k+1}} = q_{wb_{t}} \\otimes \\left[\n",
    "\\begin{matrix} 1 \\\\ \\omega \\delta t /2 \\end{matrix}\n",
    "\\right] \\tag{10} $$\n",
    "$$v^w_{k+1}= v_k^w + a \\Delta{t} \\tag{11} $$\n",
    "$$b^{a}_{k+1} = b^{a}_{k} \\tag{12} $$\n",
    "$$b^{g}_{k+1} = b^{g}_{k} \\tag{13} $$\n",
    "\n",
    "\n",
    "here:\n",
    " $$ a = \\frac{1}{2} [ R_{wb_{k}}(a^{b_k} - b^a_k) - g^w + R_{w b_{k+1}}(a^{b_{k+1}} -b^a_k)-g^w ] $$\n",
    " $$  = \\frac{1}{2} [ R_{wb_{k}}(a^{b_k} - b^a_k) + R_{w b_{k+1}}(a^{b_{k+1}} -b^a_k) ] - g^w \\tag{14} $$\n",
    " $$ \\omega = \\frac{1}{2} [ (\\omega^{b_k} - b^g_k) + (\\omega^{b_{k+1}} -b^g_k) ]  $$ \n",
    " $$  = \\frac{1}{2} (\\omega^{b_k} + \\omega^{b_{k+1}}) -b^g_k \\tag{15} $$"
   ]
  },
  {
   "cell_type": "markdown",
   "metadata": {},
   "source": [
    "### 状態の誤差\n",
    "$$ x = \\hat{x} + \\delta{x} \\tag{16} $$\n",
    "* $\\hat{x}$ 真値\n",
    "* $\\delta{x}$ 誤差\n",
    "* $f$ 状態変化\n",
    "$$ x_{k+1} + \\delta{x}_{k+1} = f(x_{k}, u_{k}) \\tag{17} $$\n",
    "$$ x_{k+1} + \\delta{x}_{k+1}  =  f(\\hat{x} + \\delta{x}, \\hat{u} + \\delta{n}) \\tag{18} $$\n",
    "\n",
    "$$ \\hat{x}_{k+1} + \\delta{x}_{k+1} = f(\\hat{x}_{k}, \\hat{u}_{k}) + F \\delta{x_{k}} + G n_{k} \\tag{19} $$\n",
    "* $\\hat{x}_{k}$ kの状態の真値\n",
    "* $\\hat{u}_{k}$ kのinput\n",
    "$$ F = \\frac{\\partial f(x_{k}, u_{k})}{\\partial \\delta{x_{k}}} \\tag{20} $$\n",
    "\n",
    "$$ F = \\lim_{\\delta{x_k} \\to 0} \\frac{ \\partial f(\\hat{x} + \\delta{x_k}) - f(\\hat{x})}{ \\delta{x_{k}} } \\tag{21} $$\n",
    "\n",
    "$$ G = \\frac{\\partial f(x_{k}, u_{k})}{\\partial \\delta{n_{k}}} $$\n"
   ]
  },
  {
   "cell_type": "markdown",
   "metadata": {},
   "source": [
    "### IMU誤差状態\n",
    "$$ \\delta{x}=(\\delta{p},\\delta{\\theta},\\delta{v},\\delta{b_a},\\delta{b_g}) \\tag{22} $$\n",
    "\n",
    "\n",
    "\n",
    "* 位置の誤差: $\\delta{p}$\n",
    "* 姿勢の誤差: $\\delta{\\theta}$\n",
    "* 速度の誤差: $\\delta{v}$ \n",
    "* 加速度biasの誤差: $\\delta{b_a}$\n",
    "* gyro biasの誤差: $\\delta{b_g}$\n",
    "\n"
   ]
  },
  {
   "cell_type": "markdown",
   "metadata": {},
   "source": [
    "$$ F = \\left[\n",
    "\\begin{matrix} \n",
    "I & f_{12} &  I \\delta t & -\\frac{1}{2}(q_{b_{i} b_{k}} + q_{b_{i} b_{k+1}}) \\delta t^2 & f_{15}\n",
    "\\\\ \n",
    "0 & f_{22} & 0 & 0 & I \\delta t\n",
    "\\\\ \n",
    "0 & f_{32} & I & -\\frac{1}{2}(q_{b_{i} b_{k}} + q_{b_{i} b_{k+1}}) \\delta t  & f_{35}\n",
    "\\\\ \n",
    "0 & 0 & 0 & I & 0\n",
    "\\\\ \n",
    "0 & 0 & 0 & 0 & I\n",
    " \\end{matrix}\n",
    "\\right] \\tag{23} $$"
   ]
  },
  {
   "cell_type": "markdown",
   "metadata": {},
   "source": [
    "### 証明：$f_{12}$\n",
    "\n",
    "$$ f_{12} = \\frac{\\partial \\delta p_{k+1} }{\\partial \\delta \\theta_k} $$\n",
    "\n",
    "according to (9): $$ p_{b_{k+1}} = p_{b_{k}} + v_{b_k}\\delta{t} + \\frac{1}{4} ( R_{b_i,b_{k}}(a^{b_k} - b^a_k) + R_{b_i, b_{k+1}}(a^{b_{k+1}} -b^a_k) ) \\delta{t^2}   $$\n",
    "\n",
    "according to (25)\n",
    "$$ p_{b_{k+1}}(+noise) = p_{b_{k}} + v_{b_k}\\delta{t} + \\frac{1}{4} ( R_{b_i,b_{k}}(I + [\\delta \\theta_k]_\\times)(a^{b_k} - b^a_k) + R_{b_i, b_{k+1}} (I + [\\delta \\theta_k]_\\times) (I - [\\omega \\delta t]_\\times)  (a^{b_{k+1}} -b^a_k) ) \\delta{t^2}  $$\n",
    "$$ \\frac{\\partial \\delta \\theta_{k+1} }{\\partial \\delta \\theta_k} = \\frac{ \\frac{1}{4} ( R_{b_i,b_{k}} [\\delta \\theta]_\\times(a^{b_k} - b^a_k) + R_{b_i, b_{k+1}} (I - [\\omega \\delta t]\\times) [\\delta \\theta_k]_\\times (a^{b_{k+1}} -b^a_k) ) \\delta{t^2} }{\\delta \\theta_k} $$\n",
    "クロスの交代性\n",
    "$$ \\frac{\\partial \\delta \\theta_{k+1} }{\\partial \\delta \\theta_k} = - \\frac{1}{4} ( R_{b_i,b_{k}} [a^{b_k} - b^a_k]_\\times + R_{b_i, b_{k+1}} (I - [\\omega \\delta t]_\\times)  [a^{b_{k+1}} -b^a_k]_\\times ) \\delta{t^2}  \\tag{24} $$\n",
    "\n"
   ]
  },
  {
   "cell_type": "markdown",
   "metadata": {},
   "source": [
    "### 証明：$f_{15}$\n",
    "\n",
    "$$ f_{15} = \\frac{\\partial \\delta p_{k+1} }{\\partial \\delta b_g} $$\n",
    "\n",
    "according to (9): $$ p_{b_{k+1}} = p_{b_{k}} + v_{b_k}\\delta{t} + \\frac{1}{4} ( R_{b_i,b_{k}}(a^{b_k} - b^a_k) + R_{b_i, b_{k+1}}(a^{b_{k+1}} -b^a_k) ) \\delta{t^2}   $$\n",
    "\n",
    "according to (15)\n",
    "$$ p_{b_{k+1}}(+noise) = p_{b_{k}} + v_{b_k}\\delta{t} + \\frac{1}{4} ( R_{b_i,b_{k}}(a^{b_k} - b^a_k) + R_{b_i, b_{k+1}} (I - [b_g \\delta t]_\\times)  (a^{b_{k+1}} -b^a_k) ) \\delta{t^2}  $$\n",
    "$$ \\frac{\\partial \\delta \\theta_{k+1} }{\\partial \\delta b_g} = \\frac{ \\frac{1}{4} ( R_{b_i, b_{k+1}} ( - [b_g \\delta t]_\\times) (a^{b_{k+1}} -b^a_k) ) \\delta{t^2} }{\\delta b_g} $$\n",
    "クロスの交代性\n",
    "$$ f_{12} = \\frac{\\partial \\delta \\theta_{k+1} }{\\partial \\delta \\theta_k} = - \\frac{1}{4} (R_{b_i, b_{k+1}}  [a^{b_{k+1}} -b^a_k]_\\times ) \\delta{t^2} (-\\delta{t})  \\tag{25} $$\n"
   ]
  },
  {
   "cell_type": "markdown",
   "metadata": {},
   "source": [
    "### 証明：$f_{22}$\n",
    "\n",
    "$$ f_{22} = \\frac{\\partial \\delta \\theta_{k+1}}{\\partial \\delta \\theta_{k}} $$\n",
    "$$q_{b_i b_{k+1}} \\otimes \\left[\n",
    "\\begin{matrix} 1 \\\\ \\delta \\theta_{k+1} /2 \\end{matrix}\n",
    "\\right] \n",
    "= q_{b_i b_{k}} \\otimes \\left[\n",
    "\\begin{matrix} 1 \\\\ \\delta \\theta_{k} /2 \\end{matrix}\n",
    "\\right]  \\otimes \\left[\n",
    "\\begin{matrix} 1 \\\\ \\omega \\delta t /2 \\end{matrix}\n",
    "\\right] $$\n",
    "\n",
    "$$ \\left[\n",
    "\\begin{matrix} 1 \\\\ \\delta \\theta_{k+1} /2 \\end{matrix}\n",
    "\\right] \n",
    "= q_{b_{k+1} b_{i}} q_{b_i b_{k}} \\otimes \\left[\n",
    "\\begin{matrix} 1 \\\\ \\delta \\theta_{k} /2 \\end{matrix}\n",
    "\\right]  \\otimes \\left[\n",
    "\\begin{matrix} 1 \\\\ \\omega \\delta t /2 \\end{matrix}\n",
    "\\right] $$\n",
    "\n",
    "$$ \\left[\n",
    "\\begin{matrix} 1 \\\\ \\delta \\theta_{k+1} /2 \\end{matrix}\n",
    "\\right] \n",
    "= q_{b_{k+1} b_{k}} \\otimes \\left[\n",
    "\\begin{matrix} 1 \\\\ \\delta \\theta_{k} /2 \\end{matrix}\n",
    "\\right]  \\otimes \\left[\n",
    "\\begin{matrix} 1 \\\\ \\omega \\delta t /2 \\end{matrix}\n",
    "\\right] $$\n",
    "\n",
    "$$ \\left[\n",
    "\\begin{matrix} 1 \\\\ \\delta \\theta_{k+1} /2 \\end{matrix}\n",
    "\\right] \n",
    "= \\left[\n",
    "\\begin{matrix} 1 \\\\ -\\omega \\delta t /2 \\end{matrix}\n",
    "\\right]  \\otimes \\left[\n",
    "\\begin{matrix} 1 \\\\ \\delta \\theta_{k} /2 \\end{matrix}\n",
    "\\right]  \\otimes \\left[\n",
    "\\begin{matrix} 1 \\\\ \\omega \\delta t /2 \\end{matrix}\n",
    "\\right] $$\n",
    "\n",
    "$$ \n",
    "= \\left[\n",
    "\\begin{matrix} 1 \\\\ R \\delta \\theta_{b_k} /2 \\end{matrix}\n",
    "\\right]$$\n",
    "\n",
    "$$ \\delta \\theta_{k+1} /2 = R \\delta \\theta_{b_k} /2 $$\n",
    "$$ \\delta \\theta_{k+1} = (I - [\\omega \\delta t]_\\times) \\delta \\theta_{b_k}  $$\n",
    "$$ f_{22} = I - [\\omega \\delta t]_\\times  \\tag{26} $$"
   ]
  },
  {
   "cell_type": "markdown",
   "metadata": {},
   "source": [
    "### 証明：$f_{32}$\n",
    "\n",
    "$$ f_{32} = \\frac{\\partial \\delta v_{k+1} }{\\partial \\delta \\theta_k} $$\n",
    "\n",
    "$$ v_{b_{k+1}} = v_{b_{k}} + \\frac{1}{2}[ R_{b_i,b_{k}}(a^{b_k} - b^a_k) - g^w + R_{b_i, b_{k+1}}(a^{b_{k+1}} -b^a_k)-g^w ]\\delta{t} $$\n",
    "\n",
    "\n",
    "$$ v_{b_{k+1}}(+noise) = v_{b_{k}} + \\frac{1}{2}[ R_{b_i,b_{k}}(I + [\\delta \\theta_k]_\\times)(a^{b_k} - b^a_k) + R_{b_i, b_{k+1}} (I + [\\delta \\theta_k]_\\times) (I - [\\omega \\delta t]_\\times)  (a^{b_{k+1}} -b^a_k)-g^w ]\\delta{t} $$\n",
    "\n",
    "$$ \\frac{\\partial \\delta v_{k+1} }{\\partial \\delta \\theta_k} = \\frac{ \\frac{1}{2} ( R_{b_i,b_{k}} [\\delta \\theta]_\\times(a^{b_k} - b^a_k) + R_{b_i, b_{k+1}} (I - [\\omega \\delta t]_\\times) [\\delta \\theta_k]_\\times (a^{b_{k+1}} -b^a_k) ) \\delta{t} }{\\delta \\theta_k} $$\n",
    "クロスの交代性\n",
    "$$ \\frac{\\partial \\delta \\theta_{k+1} }{\\partial \\delta \\theta_k} = - \\frac{1}{2} ( R_{b_i,b_{k}} [a^{b_k} - b^a_k]_\\times + R_{b_i, b_{k+1}} (I - [\\omega \\delta t]_\\times)  [a^{b_{k+1}} -b^a_k]_\\times ) \\delta{t}  \\tag{27} $$\n"
   ]
  },
  {
   "cell_type": "markdown",
   "metadata": {},
   "source": [
    "### 証明：$f_{35}$\n",
    "\n",
    "$$ f_{35} = \\frac{\\partial \\delta v_{k+1} }{\\partial \\delta b_g} $$\n",
    "\n",
    "according to (11): $$ v_{b_{k+1}} = v_{b_{k}} +  \\frac{1}{2} ( R_{b_i,b_{k}}(a^{b_k} - b^a_k) + R_{b_i, b_{k+1}}(a^{b_{k+1}} -b^a_k) ) \\delta{t}   $$\n",
    "\n",
    "according to (15)\n",
    "$$ v_{b_{k+1}}(+noise) = v_{b_{k}} + \\frac{1}{2} ( R_{b_i,b_{k}}(a^{b_k} - b^a_k) + R_{b_i, b_{k+1}} (I - [b_g \\delta t]_\\times)  (a^{b_{k+1}} -b^a_k) ) \\delta{t}  $$\n",
    "$$ \\frac{\\partial \\delta \\theta_{k+1} }{\\partial \\delta b_g} = \\frac{ \\frac{1}{2} ( R_{b_i, b_{k+1}} ( - [b_g \\delta t]_\\times) (a^{b_{k+1}} -b^a_k) ) \\delta{t} }{\\delta b_g} $$\n",
    "クロスの交代性\n",
    "$$ f_{35} = \\frac{\\partial \\delta \\theta_{k+1} }{\\partial \\delta \\theta_k} = - \\frac{1}{2} (R_{b_i, b_{k+1}}  [a^{b_{k+1}} -b^a_k]_\\times ) \\delta{t} (-\\delta{t})  \\tag{28} $$\n"
   ]
  },
  {
   "cell_type": "markdown",
   "metadata": {},
   "source": [
    "ノイズの分析\n",
    "$$ [n^a_k,n^g_k,n^a_{k+1},n^g_{k+1},n_{ba_k},n_{bg_k}] $$\n",
    "\n",
    "$$ G = \\left[\n",
    "\\begin{matrix} \n",
    "\\frac{1}{4} R_{b_i,b_k} \\delta{t^2} & g_{12} &  \\frac{1}{4} R_{b_i,b_{k+1}} \\delta{t^2} & g_{14} & 0 & 0\n",
    "\\\\ \n",
    "0 & \\frac{1}{2} I \\delta{t} & 0 & \\frac{1}{2} I \\delta{t} & 0 & 0\n",
    "\\\\ \n",
    "\\frac{1}{2} R_{b_i,b_k} \\delta{t} & g_{32} &  \\frac{1}{2} R_{b_i,b_{k+1}} \\delta{t} & g_{34} & 0 & 0\n",
    "\\\\ \n",
    "0 & 0 & 0 & 0 & I \\delta{t} & 0\n",
    "\\\\ \n",
    "0 & 0 & 0 & 0 & 0 & I \\delta{t}\n",
    " \\end{matrix}\n",
    "\\right] \\tag{29} $$"
   ]
  },
  {
   "cell_type": "markdown",
   "metadata": {},
   "source": [
    "### 証明：$g_{11}$\n",
    "$$ g_{11} = \\frac{\\partial  p_{k+1} }{\\partial  n^a_k} $$\n",
    "\n",
    "ノイズを考慮すると(14)(15)は以下:\n",
    " $$ a = \\frac{1}{2} [ R_{wb_{k}}(a^{b_k} + n^a_k - b^a_k) + R_{w b_{k+1}}(a^{b_{k+1}} + n^a_{k+1} -b^a_k) ] - g^w \\tag{30} $$\n",
    " $$ \\omega = \\frac{1}{2} (\\omega^{b_k} + n^g_k + \\omega^{b_{k+1}} + n^g_{k+1} ) -b^g_k \\tag{31} $$\n",
    "\n",
    "according to (9): $$ p_{b_{k+1}} = p_{b_{k}} + v_{b_k}\\delta{t} + \\frac{1}{2} a \\delta{t^2}   $$\n",
    "$$ \\frac{\\partial  p_{k+1} }{\\partial  n^a_k}= \\frac{\\partial  a }{\\partial  n^a_k} = \\frac{1}{4} R_{b_i,b_k} \\delta{t^2} \\tag{32}$$\n"
   ]
  },
  {
   "cell_type": "markdown",
   "metadata": {},
   "source": [
    "### 証明：$g_{12}$, $g_{14}$\n",
    "$$ g_{12} = \\frac{\\partial  p_{k+1} }{\\partial  n^g_k} $$\n",
    "$$ g_{14} = \\frac{\\partial  p_{k+1} }{\\partial  n^g_{k+1}} $$\n",
    "\n",
    "\n",
    "$$ p_{b_{k+1}} = p_{b_{k}} + v_{b_k}\\delta{t} + \\frac{1}{2} a \\delta{t^2}   $$ \n",
    "a <- (30) \n",
    "$$ \\frac{\\partial  p_{k+1} }{\\partial  n^g_k} = \\frac{1}{4} R_{b_i,b_{k+1}} [\\frac{1}{2} n^g_k \\delta{t}]_\\times (a^{b_{k+1}}  -b^a_k)\\delta{t^2} / (\\partial  n^g_k)  $$\n",
    "$$ = -\\frac{1}{4} R_{b_i,b_{k+1}} [a^{b_{k+1}}  -b^a_k]_\\times \\delta{t^2} (\\frac{1}{2} \\delta{t}) \\tag{33} $$\n",
    "$$ \\frac{\\partial  p_{k+1} }{\\partial  n^g_{k+1}} = -\\frac{1}{4} R_{b_i,b_{k+1}} [a^{b_{k+1}}  -b^a_k]_\\times \\delta{t^2} (\\frac{1}{2} \\delta{t}) \\tag{34} $$\n"
   ]
  },
  {
   "cell_type": "markdown",
   "metadata": {},
   "source": [
    "### 証明：$g_{32}$, $g_{34}$\n",
    "$$ g_{12} = \\frac{\\partial  v_{k+1} }{\\partial  n^g_k} $$\n",
    "$$ g_{14} = \\frac{\\partial  v_{k+1} }{\\partial  n^g_{k+1}} $$\n",
    "\n",
    "\n",
    "$$ v_{b_{k+1}} = v_{b_{k}} + a_{b_k}\\delta{t}   $$\n",
    "$$ \\frac{\\partial  v_{k+1} }{\\partial  n^g_k}= \\frac{\\partial  a }{\\partial  n^g_k} = \\frac{1}{2} R_{b_i,b_{k+1}} [\\frac{1}{2} n^g_k \\delta{t}]_\\times (a^{b_{k+1}}  -b^a_k)\\delta{t} / (\\partial  n^g_k)  $$\n",
    "$$ = -\\frac{1}{2} R_{b_i,b_{k+1}} [a^{b_{k+1}}  -b^a_k]_\\times \\delta{t} (\\frac{1}{2} \\delta{t}) \\tag{35} $$\n",
    "$$ \\frac{\\partial  p_{k+1} }{\\partial  n^g_{k+1}} = -\\frac{1}{2} R_{b_i,b_{k+1}} [a^{b_{k+1}}  -b^a_k]_\\times \\delta{t} (\\frac{1}{2} \\delta{t}) \\tag{36} $$\n"
   ]
  }
 ],
 "metadata": {
  "interpreter": {
   "hash": "31f2aee4e71d21fbe5cf8b01ff0e069b9275f58929596ceb00d14d90e3e16cd6"
  },
  "kernelspec": {
   "display_name": "Python 3.6.9 64-bit",
   "language": "python",
   "name": "python3"
  },
  "language_info": {
   "name": "python",
   "version": "3.6.9"
  },
  "orig_nbformat": 4
 },
 "nbformat": 4,
 "nbformat_minor": 2
}
