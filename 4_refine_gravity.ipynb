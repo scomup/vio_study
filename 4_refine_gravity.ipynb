{
 "cells": [
  {
   "cell_type": "markdown",
   "metadata": {},
   "source": [
    "### 重力ベクトルの改善\n",
    "\n",
    "重力ベクトル(linear_alignmentで計算された)のノーマルを固定値(9.81)にするように改善する\n",
    "\n",
    "$$ g = l \\overline{g} + w_1 b_1 + w_2 b_2 \\tag{1}$$\n",
    "* l: 重力ベクトルのーマル = 9.81 固定値\n",
    "* $\\overline{g}$: linear_alignmentで計算された重力ベクトルの単位化\n",
    "* $b_1$,$b_2$: $\\overline{g}$と垂直の２つ単位ベクトル\n",
    "* $w_1$,$w_2$: 最適化目標\n"
   ]
  },
  {
   "cell_type": "markdown",
   "metadata": {},
   "source": [
    "$$ g = uw \\tag{2} $$\n",
    "$$ w=[l, w_1, w_2]^T \\tag{3} $$\n",
    "$$ u=[\\overline{g}, b_1, b_2]^T \\tag{4} $$\n",
    "from 3_linear_alignment(0):\n",
    "$$ X = [v_{b_0},v_{b_1}, ..., v_{b_n}, w, s]  \\tag{5} $$\n",
    "\n",
    "$$ J = \\left[ \\begin{matrix} \n",
    "-I \\delta{t} & 0 &  \\frac{1}{2}  R_{b_{k},c_0} \\delta{t^2} u & R_{b_{k},c_0} ( p_{b_{k},c_{k+1}} - p_{c_0,c_k})\\\\ \n",
    "-I & R_{b_k, c_0}  R_{c_0, b_{k+1}} &  R_{b_k, c_0} \\delta t u & 0 \\\\ \n",
    "\\end{matrix} \\right] \\tag{6} $$\n",
    "\n",
    "$$ b = \\left[ \\begin{matrix} \n",
    "R_{b_{k}, c_0} R_{c_0, b_{k+1}} q_{b,k}  - q_{b,k} + \\alpha\\\\ \n",
    "\\beta \\\\ \n",
    "\\end{matrix} \\right] \\tag{7} $$\n",
    "\n",
    "\n"
   ]
  },
  {
   "cell_type": "markdown",
   "metadata": {},
   "source": [
    "固定値を削除より\n",
    "$$ w^{\\prime}=[w_1, w_2]^T \\tag{8} $$\n",
    "$$ u^{\\prime}=[b_1, b_2]^T \\tag{9} $$\n"
   ]
  },
  {
   "cell_type": "markdown",
   "metadata": {},
   "source": [
    "(5)(6)(7)を以下より変形する\n",
    "$$ X^{\\prime} = [v_{b_0},v_{b_1}, ..., v_{b_n}, w^{\\prime}, s]  \\tag{10} $$\n",
    "\n",
    "$$ J^{\\prime} = \\left[ \\begin{matrix} \n",
    "-I \\delta{t} & 0 &  \\frac{1}{2}  R_{b_{k},c_0} \\delta{t^2} u^{\\prime} & R_{b_{k},c_0} ( p_{b_{k},c_{k+1}} - p_{c_0,c_k})\\\\ \n",
    "-I & R_{b_k, c_0}  R_{c_0, b_{k+1}} &  R_{b_k, c_0} \\delta t u^{\\prime} & 0 \\\\ \n",
    "\\end{matrix} \\right] \\tag{11} $$\n",
    "\n",
    "$$ b^{\\prime} = \\left[ \\begin{matrix} \n",
    "R_{b_{k}, c_0} R_{c_0, b_{k+1}} q_{b,k}  - q_{b,k} + \\alpha - \\frac{1}{2}  R_{b_{k},c_0} \\delta{t^2} \\overline{g}  \\\\ \n",
    "\\beta - R_{b_k, c_0} \\delta t \\overline{g} \\\\ \n",
    "\\end{matrix} \\right] \\tag{12} $$\n",
    "\n",
    "(11)(12)を用いて、ニュートン法より、$X^{\\prime}$ が計算できる\n",
    "\n"
   ]
  }
 ],
 "metadata": {
  "language_info": {
   "name": "python"
  },
  "orig_nbformat": 4
 },
 "nbformat": 4,
 "nbformat_minor": 2
}
