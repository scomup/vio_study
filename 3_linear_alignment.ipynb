{
 "cells": [
  {
   "cell_type": "markdown",
   "metadata": {},
   "source": [
    "### 速度、重力ベクトル、スケールの最適化 LinearAlignment\n",
    "VINS: LinearAlignment\n",
    "$$ X = [v_{b_0},v_{b_1}, ..., v_{b_n}, g_{c_0}, s] $$\n",
    "* $v_{b_i}$: imu body frame iの速度\n",
    "* $g_{c_0}$: camera frame 0の重力ベクトル\n",
    "* $s$: スケール\n",
    "\n",
    "according to: imu_preintegration(3) add s:\n",
    "\n",
    "$$ s p_{c_0, b_{k+1}}= s p_{c_0,b_{k}} + v^{c_0}_{b_k}\\delta t - \\frac{1}{2} g_{c_0} \\delta t^2 + R_{c_0,b_{k}} \\alpha \\tag{1} $$\n",
    "\n",
    "$$ 0 = R_{b_{k},c_0} ( s p_{c_0, b_{k+1}} - s p_{c_0,b_{k}} - v^{c_0}_{b_k}\\delta t + \\frac{1}{2} g_{c_0} \\delta t^2 - R_{c_0,b_{k}} \\alpha \\tag{2}) $$\n",
    "\n",
    "* $q^b_c$: imu body to camera \n",
    "$$ q_{c_0,b_k} = q_{c_0,c_k} \\otimes (q_{b,k})^{-1} \\tag{3} $$\n",
    "$$ s p_{c_0,c_k} = s p_{c_0,c_k} -R_{c_0,b_k} q_{b,k} \\tag{4} $$\n",
    "\n",
    "(4)を(2)に代入\n",
    "$$ 0 = R_{b_{k},c_0} ( s p_{c_0,c_{k+1}} -R_{c_0,b_{k+1}} q_{b,k} - s p_{c_0,c_k} + R_{c_0,b_k} q_{b,k} - v^{c_0}_{b_k}\\delta t + \\frac{1}{2} g_{c_0} \\delta t^2 - R_{c_0,b_{k}} \\alpha ) $$\n",
    "\n",
    "$$  = s R_{b_{k},c_0} p_{b_{k},c_{k+1}} -  R_{b_{k}, b_{k+1}} q_{b,k} - s R_{b_{k},c_0} p_{c_0,c_k} + q_{b,k} -  v_{b_k}\\delta t + \\frac{1}{2}  R_{b_{k},c_0} g_{c_0} \\delta t^2 -\\alpha ) $$\n",
    "\n",
    "$$  = s R_{b_{k},c_0} p_{b_{k},c_{k+1}} -  R_{b_{k}, c_0} R_{c_0, b_{k+1}} q_{b,k} - s R_{b_{k},c_0} p_{c_0,c_k} + q_{b,k} -  v_{b_k}\\delta t + \\frac{1}{2}  R_{b_{k},c_0} g_{c_0} \\delta t^2 -\\alpha ) $$\n",
    "\n",
    "$$  s R_{b_{k},c_0} ( p_{b_{k},c_{k+1}} - p_{c_0,c_k}) - v_{b_k}\\delta t + \\frac{1}{2}  R_{b_{k},c_0} g_{c_0} \\delta t^2  = R_{b_{k}, c_0} R_{c_0, b_{k+1}} q_{b,k}  - q_{b,k} + \\alpha \\tag{5} $$\n",
    "\n",
    "\n",
    "\n"
   ]
  },
  {
   "cell_type": "markdown",
   "metadata": {},
   "source": [
    "\n",
    "according to: imu_preintegration(4)\n",
    "$$v_{c_0,b_{k+1}}= v_{c_0, b_{k}} + g_{c_0}\\delta t + R_{{c_0},b_{k}} \\beta  $$\n",
    "\n",
    "$$ R_{b_k, c_0} v_{c_0,b_{k+1}} - R_{b_k, c_0} v_{b_{k},c_0} + R_{b_k, c_0} g_{c_0}\\delta t =  \\beta  $$\n",
    "\n",
    "$$ R_{b_k, c_0} v_{c_0,b_{k+1}} - R_{b_k, c_0} v_{b_{k},c_0} + R_{b_k, c_0} g_{c_0}\\delta t =  \\beta  $$\n",
    "\n",
    "$$ R_{b_k, c_0}  R_{c_0, b_{k+1}} v_{b_{k+1}} - R_{b_k, c_0} R_{c_0, b_{k}} v_{b_{k}} + R_{b_k, c_0} g_{c_0}\\delta t =  \\beta  $$\n",
    "\n",
    "$$ R_{b_k, c_0}  R_{c_0, b_{k+1}} v_{b_{k+1}} - v_{b_{k}} + R_{b_k, c_0} g_{c_0}\\delta t =  \\beta  \\tag{6} $$\n"
   ]
  },
  {
   "cell_type": "markdown",
   "metadata": {},
   "source": [
    "according to: (5)(6)\n",
    "$$ R_{b_k, c_0}  R_{c_0, b_{k+1}} v_{b_{k+1}} - v_{b_{k}} + R_{b_k, c_0} g_{c_0}\\delta t =  \\beta $$\n",
    "\n",
    "$$ J = \\left[ \\begin{matrix} \n",
    "-I \\delta{t} & 0 &  \\frac{1}{2}  R_{b_{k},c_0} \\delta{t^2} & R_{b_{k},c_0} ( p_{b_{k},c_{k+1}} - p_{c_0,c_k})\\\\ \n",
    "-I & 0 &  R_{b_k, c_0}  R_{c_0, b_{k+1}} &  R_{b_k, c_0} \\delta t & 0 \\\\ \n",
    "\\end{matrix} \\right] \\tag{7} $$\n",
    "\n",
    "$$ b = \\left[ \\begin{matrix} \n",
    "R_{b_{k}, c_0} R_{c_0, b_{k+1}} q_{b,k}  - q_{b,k} + \\alpha\\\\ \n",
    "\\beta \\\\ \n",
    "\\end{matrix} \\right] \\tag{8} $$\n",
    "\n",
    "(7)(8)を用いて、ニュートン法より、X が計算できる\n"
   ]
  }
 ],
 "metadata": {
  "language_info": {
   "name": "python"
  },
  "orig_nbformat": 4
 },
 "nbformat": 4,
 "nbformat_minor": 2
}
