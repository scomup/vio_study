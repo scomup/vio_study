{
 "cells": [
  {
   "cell_type": "markdown",
   "metadata": {},
   "source": [
    "### Gyro Bias solve:\n",
    "VINS:solveGyroscopeBias \n",
    "\n",
    "カメラのマッチング情報から、imuのgyroのbiasを最適化する。\n",
    "\n",
    "$$ q^{camera}_{j, i} \\otimes q^{gyro}_{i, j} = \\left[ \\begin{matrix} 1 \\\\ 0 \\end{matrix} \\right] $$\n",
    "* $q^{camera}_{j, i}$: カメラSFMから取得されたframe jとkの姿勢差 \n",
    "* $q^{gyro}_{i, j}$: IMU予積分から取得されたframe iとjの姿勢差 \n",
    "\n",
    "$$ q^{gyro}_{i, j} = q^{camera}_{i, j} \\otimes  \\left[ \\begin{matrix} 1 \\\\ 0 \\end{matrix} \\right] $$\n",
    "with noise:\n",
    "$$ q^{gyro}_{i, j} \\otimes  \\left[ \\begin{matrix} 1 \\\\ J \\delta{bg}/2 \\end{matrix} \\right] = q^{camera}_{i, j} \\otimes  \\left[ \\begin{matrix} 1 \\\\ 0 \\end{matrix} \\right] $$\n",
    "$$ \\left[ \\begin{matrix} 1 \\\\ J \\delta{bg}/2 \\end{matrix} \\right] = q^{gyro}_{j, i} \\otimes q^{camera}_{i, j} $$\n",
    "\n",
    "$$ J \\delta{bg}/2 = (q^{gyro}_{j, i} \\otimes q^{camera}_{i, j})_{vec} $$ \n",
    "$$ J^T J \\delta{bg} = 2 J^T(q^{gyro}_{j, i} \\otimes q^{camera}_{i, j})_{vec} $$ \n",
    "check imu_preintegration:\n",
    "$$ J = F_{25} $$\n"
   ]
  }
 ],
 "metadata": {
  "language_info": {
   "name": "python"
  },
  "orig_nbformat": 4
 },
 "nbformat": 4,
 "nbformat_minor": 2
}
